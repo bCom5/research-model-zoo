{
 "cells": [
  {
   "cell_type": "code",
   "execution_count": 3,
   "metadata": {
    "colab": {},
    "colab_type": "code",
    "id": "60QaO3wwP5KY"
   },
   "outputs": [],
   "source": [
    "import numpy as np\n",
    "import pandas as pd\n",
    "np.random.seed(19680801)\n",
    "import matplotlib.pyplot as plt\n",
    "import pandas as pd\n",
    "import matplotlib.colors as mcolors\n",
    "%matplotlib inline"
   ]
  },
  {
   "cell_type": "code",
   "execution_count": 13,
   "metadata": {
    "colab": {
     "base_uri": "https://localhost:8080/",
     "height": 332
    },
    "colab_type": "code",
    "executionInfo": {
     "elapsed": 333,
     "status": "ok",
     "timestamp": 1581148172105,
     "user": {
      "displayName": "Eric Zhu",
      "photoUrl": "",
      "userId": "04391999755479781809"
     },
     "user_tz": 480
    },
    "id": "f-O9uVFjP5Kw",
    "outputId": "77d12986-e75f-4f4b-aaec-5cb63d92fe53"
   },
   "outputs": [
    {
     "data": {
      "text/html": [
       "<div>\n",
       "<style scoped>\n",
       "    .dataframe tbody tr th:only-of-type {\n",
       "        vertical-align: middle;\n",
       "    }\n",
       "\n",
       "    .dataframe tbody tr th {\n",
       "        vertical-align: top;\n",
       "    }\n",
       "\n",
       "    .dataframe thead th {\n",
       "        text-align: right;\n",
       "    }\n",
       "</style>\n",
       "<table border=\"1\" class=\"dataframe\">\n",
       "  <thead>\n",
       "    <tr style=\"text-align: right;\">\n",
       "      <th></th>\n",
       "      <th>Accuracy</th>\n",
       "      <th>MACs</th>\n",
       "    </tr>\n",
       "  </thead>\n",
       "  <tbody>\n",
       "    <tr>\n",
       "      <th>MobileNet x1.00</th>\n",
       "      <td>91.42</td>\n",
       "      <td>47187968.0</td>\n",
       "    </tr>\n",
       "    <tr>\n",
       "      <th>SqueezeNet</th>\n",
       "      <td>90.71</td>\n",
       "      <td>23902388.0</td>\n",
       "    </tr>\n",
       "    <tr>\n",
       "      <th>MobileNet V3 Small x1.00</th>\n",
       "      <td>91.16</td>\n",
       "      <td>18891842.0</td>\n",
       "    </tr>\n",
       "    <tr>\n",
       "      <th>Fd-MobileNet x1.00</th>\n",
       "      <td>87.73</td>\n",
       "      <td>11983872.0</td>\n",
       "    </tr>\n",
       "    <tr>\n",
       "      <th>[OURS]  Fd-MobileNet V3 x1.00</th>\n",
       "      <td>84.19</td>\n",
       "      <td>6597218.0</td>\n",
       "    </tr>\n",
       "    <tr>\n",
       "      <th>MobileNet x0.25</th>\n",
       "      <td>85.87</td>\n",
       "      <td>3539456.0</td>\n",
       "    </tr>\n",
       "    <tr>\n",
       "      <th>MobileNet V3 Small x0.25</th>\n",
       "      <td>86.33</td>\n",
       "      <td>2540820.0</td>\n",
       "    </tr>\n",
       "    <tr>\n",
       "      <th>Fd-MobileNet x0.25</th>\n",
       "      <td>79.09</td>\n",
       "      <td>1029888.0</td>\n",
       "    </tr>\n",
       "    <tr>\n",
       "      <th>[OURS] Fd-MobileNet V3 x0.25</th>\n",
       "      <td>77.99</td>\n",
       "      <td>697662.0</td>\n",
       "    </tr>\n",
       "  </tbody>\n",
       "</table>\n",
       "</div>"
      ],
      "text/plain": [
       "                               Accuracy        MACs\n",
       "MobileNet x1.00                   91.42  47187968.0\n",
       "SqueezeNet                        90.71  23902388.0\n",
       "MobileNet V3 Small x1.00          91.16  18891842.0\n",
       "Fd-MobileNet x1.00                87.73  11983872.0\n",
       "[OURS]  Fd-MobileNet V3 x1.00     84.19   6597218.0\n",
       "MobileNet x0.25                   85.87   3539456.0\n",
       "MobileNet V3 Small x0.25          86.33   2540820.0\n",
       "Fd-MobileNet x0.25                79.09   1029888.0\n",
       "[OURS] Fd-MobileNet V3 x0.25      77.99    697662.0"
      ]
     },
     "execution_count": 13,
     "metadata": {},
     "output_type": "execute_result"
    }
   ],
   "source": [
    "df = pd.DataFrame({\n",
    "        'MobileNet x1.00' : [91.42, 47187968],\n",
    "        'SqueezeNet' : [90.71, 23902388],\n",
    "        'MobileNet x0.25' : [85.87, 3539456],\n",
    "        'Fd-MobileNet x1.00': [87.730, 11983872],\n",
    "        'Fd-MobileNet x0.25' : [79.09, 1029888],\n",
    "        'MobileNet V3 Small x1.00' : [91.16, 18891842],\n",
    "        'MobileNet V3 Small x0.25' : [86.33, 2540820],\n",
    "        '[OURS]  Fd-MobileNet V3 x1.00' : [84.19, 6597218],\n",
    "        '[OURS] Fd-MobileNet V3 x0.25' : [77.99, 697662],\n",
    "        \n",
    "    },\n",
    "    index = ['Accuracy', 'MACs']).T\n",
    "df.sort_values(by=['MACs'], axis=0, ascending=False)"
   ]
  },
  {
   "cell_type": "code",
   "execution_count": 14,
   "metadata": {
    "colab": {
     "base_uri": "https://localhost:8080/",
     "height": 36
    },
    "colab_type": "code",
    "executionInfo": {
     "elapsed": 343,
     "status": "ok",
     "timestamp": 1581148175199,
     "user": {
      "displayName": "Eric Zhu",
      "photoUrl": "",
      "userId": "04391999755479781809"
     },
     "user_tz": 480
    },
    "id": "fYKS5iWkP5LA",
    "outputId": "58d0cf2a-00da-4eb2-aa4c-d14e47d78c13"
   },
   "outputs": [
    {
     "name": "stdout",
     "output_type": "stream",
     "text": [
      "num colors: 10\n"
     ]
    }
   ],
   "source": [
    "colors = list(mcolors.TABLEAU_COLORS)\n",
    "print('num colors: %d' % len(colors))"
   ]
  },
  {
   "cell_type": "code",
   "execution_count": 34,
   "metadata": {
    "colab": {
     "base_uri": "https://localhost:8080/",
     "height": 295
    },
    "colab_type": "code",
    "executionInfo": {
     "elapsed": 719,
     "status": "ok",
     "timestamp": 1581148179878,
     "user": {
      "displayName": "Eric Zhu",
      "photoUrl": "",
      "userId": "04391999755479781809"
     },
     "user_tz": 480
    },
    "id": "FCDoXr31P5LL",
    "outputId": "4aba9c42-6c30-439a-cd32-749dddc24b6e",
    "scrolled": true
   },
   "outputs": [
    {
     "data": {
      "image/png": "[encoded data removed]",
      "text/plain": [
       "<Figure size 432x288 with 1 Axes>"
      ]
     },
     "metadata": {
      "needs_background": "light"
     },
     "output_type": "display_data"
    }
   ],
   "source": [
    "fig, ax = plt.subplots()\n",
    "assert len(df.index)  <= 10\n",
    "arr = df.to_numpy()\n",
    "for i, model in enumerate(df.index):\n",
    "    y, x = df.to_numpy()[i]\n",
    "    scale = 200.0 if '[OURS]' in model else 100.0\n",
    "    marker='*' if '[OURS]' in model else 'o'\n",
    "    ax.scatter(x, y, c=colors[i], s=scale, marker=marker, label=model,\n",
    "               alpha=0.5) # gives a faded color\n",
    "\n",
    "ax.legend(loc='lower right')\n",
    "ax.grid(True)\n",
    "plt.title('MAC Count and Accuracy of Different Models')\n",
    "plt.xlabel('MAC Count')\n",
    "plt.ylabel('Accuracy')\n",
    "plt.show()"
   ]
  },
  {
   "cell_type": "code",
   "execution_count": 44,
   "metadata": {
    "colab": {},
    "colab_type": "code",
    "id": "D8w-jLmNXw62"
   },
   "outputs": [
    {
     "data": {
      "image/png": "[encoded data removed]",
      "text/plain": [
       "<Figure size 432x288 with 1 Axes>"
      ]
     },
     "metadata": {
      "needs_background": "light"
     },
     "output_type": "display_data"
    }
   ],
   "source": [
    "fig, ax = plt.subplots()\n",
    "assert len(df.index)  <= 10\n",
    "arr = df.to_numpy()\n",
    "for i, model in enumerate(df.index):\n",
    "    y, x = df.to_numpy()[i]\n",
    "    scale = 200.0 if '[OURS]' in model else 100.0\n",
    "    marker='*' if '[OURS]' in model else 'o'\n",
    "    ax.scatter(x, y, c=colors[i], s=scale, marker=marker, label=model,\n",
    "               alpha=0.5) # gives a faded color\n",
    "\n",
    "#ax.legend(loc='lower right')\n",
    "ax.grid(True)\n",
    "ax.set_xscale('log')\n",
    "#ax.set_ylim(50, 95)\n",
    "plt.title('MAC Count and Accuracy of Different Models')\n",
    "plt.xlabel('MAC Count')\n",
    "plt.ylabel('Accuracy')\n",
    "plt.show()"
   ]
  },
  {
   "cell_type": "code",
   "execution_count": null,
   "metadata": {},
   "outputs": [],
   "source": []
  },
  {
   "cell_type": "code",
   "execution_count": null,
   "metadata": {},
   "outputs": [],
   "source": []
  }
 ],
 "metadata": {
  "colab": {
   "collapsed_sections": [],
   "name": "plot.ipynb",
   "provenance": []
  },
  "kernelspec": {
   "display_name": "Python 3",
   "language": "python",
   "name": "python3"
  },
  "language_info": {
   "codemirror_mode": {
    "name": "ipython",
    "version": 3
   },
   "file_extension": ".py",
   "mimetype": "text/x-python",
   "name": "python",
   "nbconvert_exporter": "python",
   "pygments_lexer": "ipython3",
   "version": "3.7.4"
  }
 },
 "nbformat": 4,
 "nbformat_minor": 1
}
