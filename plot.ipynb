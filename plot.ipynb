{
 "cells": [
  {
   "cell_type": "code",
   "execution_count": 33,
   "metadata": {},
   "outputs": [],
   "source": [
    "import numpy as np\n",
    "np.random.seed(19680801)\n",
    "import matplotlib.pyplot as plt\n",
    "import pandas as pd\n",
    "import matplotlib.colors as mcolors\n",
    "%matplotlib inline"
   ]
  },
  {
   "cell_type": "code",
   "execution_count": 63,
   "metadata": {},
   "outputs": [
    {
     "data": {
      "text/html": [
       "<div>\n",
       "<style scoped>\n",
       "    .dataframe tbody tr th:only-of-type {\n",
       "        vertical-align: middle;\n",
       "    }\n",
       "\n",
       "    .dataframe tbody tr th {\n",
       "        vertical-align: top;\n",
       "    }\n",
       "\n",
       "    .dataframe thead th {\n",
       "        text-align: right;\n",
       "    }\n",
       "</style>\n",
       "<table border=\"1\" class=\"dataframe\">\n",
       "  <thead>\n",
       "    <tr style=\"text-align: right;\">\n",
       "      <th></th>\n",
       "      <th>Accuracy</th>\n",
       "      <th>MACs</th>\n",
       "    </tr>\n",
       "  </thead>\n",
       "  <tbody>\n",
       "    <tr>\n",
       "      <th>MobileNet x1.00</th>\n",
       "      <td>91.42</td>\n",
       "      <td>47187968.0</td>\n",
       "    </tr>\n",
       "    <tr>\n",
       "      <th>SqueezeNet</th>\n",
       "      <td>90.71</td>\n",
       "      <td>23902388.0</td>\n",
       "    </tr>\n",
       "    <tr>\n",
       "      <th>MobileNet x0.25</th>\n",
       "      <td>85.87</td>\n",
       "      <td>3539456.0</td>\n",
       "    </tr>\n",
       "    <tr>\n",
       "      <th>Fd-MobileNet x0.25</th>\n",
       "      <td>79.09</td>\n",
       "      <td>1029888.0</td>\n",
       "    </tr>\n",
       "    <tr>\n",
       "      <th>MobileNetV3 Small x0.75</th>\n",
       "      <td>72.33</td>\n",
       "      <td>2002076.0</td>\n",
       "    </tr>\n",
       "    <tr>\n",
       "      <th>MobileNetV3 Small x0.35</th>\n",
       "      <td>70.19</td>\n",
       "      <td>805052.0</td>\n",
       "    </tr>\n",
       "  </tbody>\n",
       "</table>\n",
       "</div>"
      ],
      "text/plain": [
       "                         Accuracy        MACs\n",
       "MobileNet x1.00             91.42  47187968.0\n",
       "SqueezeNet                  90.71  23902388.0\n",
       "MobileNet x0.25             85.87   3539456.0\n",
       "Fd-MobileNet x0.25          79.09   1029888.0\n",
       "MobileNetV3 Small x0.75     72.33   2002076.0\n",
       "MobileNetV3 Small x0.35     70.19    805052.0"
      ]
     },
     "execution_count": 63,
     "metadata": {},
     "output_type": "execute_result"
    }
   ],
   "source": [
    "df = pd.DataFrame({\n",
    "        'MobileNet x1.00' : [91.42, 47187968],\n",
    "        'SqueezeNet' : [90.71, 23902388],\n",
    "        'MobileNet x0.25' : [85.87, 3539456],\n",
    "        'Fd-MobileNet x0.25' : [79.09, 1029888],\n",
    "        'MobileNetV3 Small x0.75' : [72.33, 2002076],\n",
    "        'MobileNetV3 Small x0.35' : [70.19, 805052]\n",
    "    },\n",
    "    index = ['Accuracy', 'MACs']).T\n",
    "df"
   ]
  },
  {
   "cell_type": "code",
   "execution_count": 61,
   "metadata": {},
   "outputs": [
    {
     "name": "stdout",
     "output_type": "stream",
     "text": [
      "num colors: 10\n"
     ]
    }
   ],
   "source": [
    "colors = list(mcolors.TABLEAU_COLORS)\n",
    "print('num colors: %d' % len(colors))"
   ]
  },
  {
   "cell_type": "code",
   "execution_count": 94,
   "metadata": {
    "scrolled": true
   },
   "outputs": [
    {
     "data": {
      "image/png": "[encoded data removed]",
      "text/plain": [
       "<Figure size 432x288 with 1 Axes>"
      ]
     },
     "metadata": {
      "needs_background": "light"
     },
     "output_type": "display_data"
    }
   ],
   "source": [
    "fig, ax = plt.subplots()\n",
    "assert len(df.index)  <= 10\n",
    "arr = df.to_numpy()\n",
    "for i, model in enumerate(df.index):\n",
    "    y, x = df.to_numpy()[i]\n",
    "    scale = 200.0\n",
    "    ax.scatter(x, y, c=colors[i], s=scale, label=model,\n",
    "               alpha=0.5) # gives a faded color\n",
    "\n",
    "ax.legend(loc='lower right')\n",
    "ax.grid(True)\n",
    "plt.title('MAC Count and Accuracy of Different Models')\n",
    "plt.xlabel('MAC Count')\n",
    "plt.ylabel('Accuracy')\n",
    "plt.show()"
   ]
  },
  {
   "cell_type": "code",
   "execution_count": null,
   "metadata": {},
   "outputs": [],
   "source": []
  }
 ],
 "metadata": {
  "kernelspec": {
   "display_name": "Python 3",
   "language": "python",
   "name": "python3"
  },
  "language_info": {
   "codemirror_mode": {
    "name": "ipython",
    "version": 3
   },
   "file_extension": ".py",
   "mimetype": "text/x-python",
   "name": "python",
   "nbconvert_exporter": "python",
   "pygments_lexer": "ipython3",
   "version": "3.7.4"
  }
 },
 "nbformat": 4,
 "nbformat_minor": 2
}
